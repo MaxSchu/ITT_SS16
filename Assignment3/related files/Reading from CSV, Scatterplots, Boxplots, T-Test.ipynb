{
 "metadata": {
  "name": "",
  "signature": "sha256:d9a6d6641ff11fb19a5cdcc590e182da4e0e562e1ca2d8a072444952af514fe7"
 },
 "nbformat": 3,
 "nbformat_minor": 0,
 "worksheets": [
  {
   "cells": [
    {
     "cell_type": "markdown",
     "metadata": {},
     "source": [
      "**Using fake test data here!** Don't try to conclude anything from these visualizations"
     ]
    },
    {
     "cell_type": "code",
     "collapsed": false,
     "input": [
      "from pylab import *"
     ],
     "language": "python",
     "metadata": {},
     "outputs": [],
     "prompt_number": 1
    },
    {
     "cell_type": "code",
     "collapsed": false,
     "input": [
      "%matplotlib inline\n",
      "rcParams['figure.figsize'] = (16,9)"
     ],
     "language": "python",
     "metadata": {},
     "outputs": [],
     "prompt_number": 2
    },
    {
     "cell_type": "code",
     "collapsed": false,
     "input": [
      "data = genfromtxt(\"../Test_Result1.csv\", dtype=None, delimiter=\",\", names=True)"
     ],
     "language": "python",
     "metadata": {},
     "outputs": [],
     "prompt_number": 7
    },
    {
     "cell_type": "code",
     "collapsed": false,
     "input": [
      "data.dtype\n",
      "# dtype([('timestamp_ISO', 'S19'), ('user_id', '<i8'), ('trial', '<i8'), ('left_or_right_hand', 'S1'), ('stimulus_or_choice', 'S1'), ('movement_time_ms', '<i8')])"
     ],
     "language": "python",
     "metadata": {},
     "outputs": [
      {
       "metadata": {},
       "output_type": "pyout",
       "prompt_number": 8,
       "text": [
        "dtype([('AGE', '<i8'), ('EXPECTED_BUTTON', 'S1'), ('GENDER', 'S6'), ('HANDEDNESS', 'S5'), ('HAS_DISTRACTION', '?'), ('ORDER', 'S11'), ('PARTICIPANT', '<i8'), ('PRESSED_KEY', 'S1'), ('REACTION_TIME', '<f8'), ('REPETITIONS', '<i8'), ('SIGNAL_MODE', 'S13'), ('TIMESTAMP', '<f8'), ('TIME_BETWEEN_SIGNALS_MS', '<i8'), ('WAS_CORRECT_BUTTON', '?')])"
       ]
      }
     ],
     "prompt_number": 8
    },
    {
     "cell_type": "code",
     "collapsed": false,
     "input": [
      "data['movement_time_ms']"
     ],
     "language": "python",
     "metadata": {},
     "outputs": [
      {
       "metadata": {},
       "output_type": "pyout",
       "prompt_number": 16,
       "text": [
        "array([2348,  729,  602,  306,  801,  608,  386,  489,  529,  802,  666,\n",
        "        513,  385,  617,  490,  729,  520,  633, 1155,  305,  776,  962,\n",
        "        890,  625,  408,  329,  521,  571, 1041,  638,  481,  825,  489,\n",
        "        513,  546,  688,  633, 1102,  425,  537,  730, 1055, 1226,  562,\n",
        "        393,  634,  849,  550,  441,  786,  610,  526,  662,  505, 1401,\n",
        "        650,  627,  586,  440,  651,  905,  515,  749,  647])"
       ]
      }
     ],
     "prompt_number": 16
    },
    {
     "cell_type": "code",
     "collapsed": false,
     "input": [
      "data[1]"
     ],
     "language": "python",
     "metadata": {},
     "outputs": [
      {
       "metadata": {},
       "output_type": "pyout",
       "prompt_number": 17,
       "text": [
        "(b'2014-04-23T01:31:37', 1, 1, b'l', b'c', 729)"
       ]
      }
     ],
     "prompt_number": 17
    },
    {
     "cell_type": "code",
     "collapsed": false,
     "input": [
      "left = []\n",
      "right = []\n",
      "for d in data:\n",
      "    if d['left_or_right_hand'] == b'r':\n",
      "        right.append(d['movement_time_ms'])\n",
      "    else:\n",
      "        left.append(d['movement_time_ms'])\n",
      "        "
     ],
     "language": "python",
     "metadata": {},
     "outputs": [],
     "prompt_number": 18
    },
    {
     "cell_type": "code",
     "collapsed": false,
     "input": [
      "def shuffle_x(l, amount=0.5):\n",
      "    from random import random\n",
      "    shuffled = []\n",
      "    for val in l:\n",
      "        shuffled.append(val + amount * (random() - 0.5))\n",
      "    return shuffled"
     ],
     "language": "python",
     "metadata": {},
     "outputs": [],
     "prompt_number": 19
    },
    {
     "cell_type": "code",
     "collapsed": false,
     "input": [
      "scatter([10]*len(left), left, s=100, alpha=0.1)\n",
      "scatter([20]*len(right), right, s=100, alpha=0.1)\n",
      "#scatter(shuffle_x([10]*len(left)), left, s=100, alpha=0.1)\n",
      "#scatter(shuffle_x([20]*len(right)), right, s=100, alpha=0.1)"
     ],
     "language": "python",
     "metadata": {},
     "outputs": [
      {
       "ename": "NameError",
       "evalue": "name 'scatter' is not defined",
       "output_type": "pyerr",
       "traceback": [
        "\u001b[0;31m---------------------------------------------------------------------------\u001b[0m\n\u001b[0;31mNameError\u001b[0m                                 Traceback (most recent call last)",
        "\u001b[0;32m<ipython-input-1-a100eb305de0>\u001b[0m in \u001b[0;36m<module>\u001b[0;34m()\u001b[0m\n\u001b[0;32m----> 1\u001b[0;31m \u001b[0mscatter\u001b[0m\u001b[0;34m(\u001b[0m\u001b[0;34m[\u001b[0m\u001b[0;36m10\u001b[0m\u001b[0;34m]\u001b[0m\u001b[0;34m*\u001b[0m\u001b[0mlen\u001b[0m\u001b[0;34m(\u001b[0m\u001b[0mleft\u001b[0m\u001b[0;34m)\u001b[0m\u001b[0;34m,\u001b[0m \u001b[0mleft\u001b[0m\u001b[0;34m,\u001b[0m \u001b[0ms\u001b[0m\u001b[0;34m=\u001b[0m\u001b[0;36m100\u001b[0m\u001b[0;34m,\u001b[0m \u001b[0malpha\u001b[0m\u001b[0;34m=\u001b[0m\u001b[0;36m0.1\u001b[0m\u001b[0;34m)\u001b[0m\u001b[0;34m\u001b[0m\u001b[0m\n\u001b[0m\u001b[1;32m      2\u001b[0m \u001b[0mscatter\u001b[0m\u001b[0;34m(\u001b[0m\u001b[0;34m[\u001b[0m\u001b[0;36m20\u001b[0m\u001b[0;34m]\u001b[0m\u001b[0;34m*\u001b[0m\u001b[0mlen\u001b[0m\u001b[0;34m(\u001b[0m\u001b[0mright\u001b[0m\u001b[0;34m)\u001b[0m\u001b[0;34m,\u001b[0m \u001b[0mright\u001b[0m\u001b[0;34m,\u001b[0m \u001b[0ms\u001b[0m\u001b[0;34m=\u001b[0m\u001b[0;36m100\u001b[0m\u001b[0;34m,\u001b[0m \u001b[0malpha\u001b[0m\u001b[0;34m=\u001b[0m\u001b[0;36m0.1\u001b[0m\u001b[0;34m)\u001b[0m\u001b[0;34m\u001b[0m\u001b[0m\n\u001b[1;32m      3\u001b[0m \u001b[0;31m#scatter(shuffle_x([10]*len(left)), left, s=100, alpha=0.1)\u001b[0m\u001b[0;34m\u001b[0m\u001b[0;34m\u001b[0m\u001b[0m\n\u001b[1;32m      4\u001b[0m \u001b[0;31m#scatter(shuffle_x([20]*len(right)), right, s=100, alpha=0.1)\u001b[0m\u001b[0;34m\u001b[0m\u001b[0;34m\u001b[0m\u001b[0m\n",
        "\u001b[0;31mNameError\u001b[0m: name 'scatter' is not defined"
       ]
      }
     ],
     "prompt_number": 1
    },
    {
     "cell_type": "code",
     "collapsed": false,
     "input": [
      "ignore_output = boxplot([left,right])"
     ],
     "language": "python",
     "metadata": {},
     "outputs": [
      {
       "metadata": {},
       "output_type": "display_data",
       "png": "[encoded data removed]",
       "text": [
        "<matplotlib.figure.Figure at 0x7f3304e2feb8>"
       ]
      }
     ],
     "prompt_number": 24
    },
    {
     "cell_type": "code",
     "collapsed": false,
     "input": [
      "# take care to use the correct type of t-test!\n",
      "from scipy.stats import ttest_ind, ttest_rel, ttest_1samp\n",
      "t_statistic, p_value = ttest_ind(left, right)\n",
      "print(\"p-value: %f (%s)\" % (p_value, \"significant\" if p_value < 0.05 else \"not significant\"))"
     ],
     "language": "python",
     "metadata": {},
     "outputs": [
      {
       "output_type": "stream",
       "stream": "stdout",
       "text": [
        "p-value: 0.399785 (not significant)\n"
       ]
      }
     ],
     "prompt_number": 25
    },
    {
     "cell_type": "code",
     "collapsed": false,
     "input": [],
     "language": "python",
     "metadata": {},
     "outputs": [],
     "prompt_number": 10
    },
    {
     "cell_type": "code",
     "collapsed": false,
     "input": [],
     "language": "python",
     "metadata": {},
     "outputs": []
    }
   ],
   "metadata": {}
  }
 ]
}