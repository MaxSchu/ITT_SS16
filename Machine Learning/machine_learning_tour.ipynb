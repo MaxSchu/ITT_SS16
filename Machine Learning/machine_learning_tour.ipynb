{
 "metadata": {
  "name": "",
  "signature": "sha256:997ab28d2ff0e9177037aa0608c721a0621700b6779f65f3dc007d7fa55ef62d"
 },
 "nbformat": 3,
 "nbformat_minor": 0,
 "worksheets": [
  {
   "cells": [
    {
     "cell_type": "heading",
     "level": 1,
     "metadata": {},
     "source": [
      "A short example for using Support Vector Machines (and machine-learning classifiers in general)"
     ]
    },
    {
     "cell_type": "code",
     "collapsed": false,
     "input": [
      "%matplotlib inline\n",
      "import matplotlib\n",
      "matplotlib.rcParams.update({'figure.figsize': (12.0, 8.0)})"
     ],
     "language": "python",
     "metadata": {},
     "outputs": []
    },
    {
     "cell_type": "code",
     "collapsed": false,
     "input": [
      "from pylab import *\n",
      "from sklearn import svm"
     ],
     "language": "python",
     "metadata": {},
     "outputs": []
    },
    {
     "cell_type": "heading",
     "level": 1,
     "metadata": {},
     "source": [
      "Our Datasets"
     ]
    },
    {
     "cell_type": "code",
     "collapsed": false,
     "input": [
      "# Example dataset\n",
      "x1 = [1.0, 2.0, 2.0, 3.0, 3.0, 4.0, 4.0, 5.0]\n",
      "y1 = [3.0, 2.0, 4.0, 1.0, 5.0, 2.0, 4.0, 3.0]\n",
      "c1 = [ 0 ,  1 ,  0 ,  1 ,  0 ,  1 ,  0 ,  1 ] # possible categorization #1\n",
      "c2 = [ 0 ,  1 ,  1 ,  0 ,  0 ,  1 ,  1 ,  0 ] # possible categorization #2\n",
      "\n",
      "# a sample we want to classify\n",
      "xu = 3.5\n",
      "yu = 3.5"
     ],
     "language": "python",
     "metadata": {},
     "outputs": []
    },
    {
     "cell_type": "code",
     "collapsed": false,
     "input": [
      "scatter(x1,y1,c='y')\n",
      "scatter([xu],[yu], c='b', marker='x')"
     ],
     "language": "python",
     "metadata": {},
     "outputs": []
    },
    {
     "cell_type": "code",
     "collapsed": false,
     "input": [
      "xa = [i[0] for i in zip(x1,c1) if i[1] == 0]\n",
      "ya = [i[0] for i in zip(y1,c1) if i[1] == 0]\n",
      "\n",
      "xb = [i[0] for i in zip(x1,c1) if i[1] == 1]\n",
      "yb = [i[0] for i in zip(y1,c1) if i[1] == 1]\n",
      "\n",
      "scatter(xa,ya,marker='+', c='r')\n",
      "scatter(xb,yb,marker='o', c='g')\n",
      "scatter([xu],[yu], marker='x', c='b')"
     ],
     "language": "python",
     "metadata": {},
     "outputs": []
    },
    {
     "cell_type": "code",
     "collapsed": false,
     "input": [
      "xc = [i[0] for i in zip(x1,c2) if i[1] == 0]\n",
      "yc = [i[0] for i in zip(y1,c2) if i[1] == 0]\n",
      "\n",
      "xd = [i[0] for i in zip(x1,c2) if i[1] == 1]\n",
      "yd = [i[0] for i in zip(y1,c2) if i[1] == 1]\n",
      "\n",
      "scatter(xc,yc,marker='+', c='r')\n",
      "scatter(xd,yd,marker='o', c='g')\n",
      "scatter([xu],[yu], marker='x', c='b')"
     ],
     "language": "python",
     "metadata": {},
     "outputs": []
    },
    {
     "cell_type": "heading",
     "level": 2,
     "metadata": {},
     "source": [
      "Feature Extraction"
     ]
    },
    {
     "cell_type": "markdown",
     "metadata": {},
     "source": [
      "**Goal:** transform data in such a way that the characteristic components are available as numerical or categorical values.\n",
      "\n",
      "**Example:** apply FFT to a waveform to extract frequency components"
     ]
    },
    {
     "cell_type": "heading",
     "level": 2,
     "metadata": {},
     "source": [
      "Standardization"
     ]
    },
    {
     "cell_type": "markdown",
     "metadata": {},
     "source": [
      "[usually consists of two steps](http://scikit-learn.org/stable/modules/preprocessing.html#standardization-or-mean-removal-and-variance-scaling):\n",
      "\n",
      "* **mean removal** ('center' all values around mean)\n",
      "* **normalization** (map all values to a certain range)\n",
      "\n",
      "([When to standardize data](http://www.faqs.org/faqs/ai-faq/neural-nets/part2/section-16.html))"
     ]
    },
    {
     "cell_type": "code",
     "collapsed": false,
     "input": [
      "from sklearn.preprocessing import scale, StandardScaler, MinMaxScaler"
     ],
     "language": "python",
     "metadata": {},
     "outputs": []
    },
    {
     "cell_type": "code",
     "collapsed": false,
     "input": [
      "samples = list(zip(x1,y1))"
     ],
     "language": "python",
     "metadata": {},
     "outputs": []
    },
    {
     "cell_type": "code",
     "collapsed": false,
     "input": [
      "samples"
     ],
     "language": "python",
     "metadata": {},
     "outputs": []
    },
    {
     "cell_type": "code",
     "collapsed": false,
     "input": [
      "scaled_samples = scale(samples)"
     ],
     "language": "python",
     "metadata": {},
     "outputs": []
    },
    {
     "cell_type": "code",
     "collapsed": false,
     "input": [
      "xy = list(zip(*scaled_samples))\n",
      "scatter(*xy)"
     ],
     "language": "python",
     "metadata": {},
     "outputs": []
    },
    {
     "cell_type": "code",
     "collapsed": false,
     "input": [
      "s=MinMaxScaler()"
     ],
     "language": "python",
     "metadata": {},
     "outputs": []
    },
    {
     "cell_type": "code",
     "collapsed": false,
     "input": [
      "s.fit(samples)"
     ],
     "language": "python",
     "metadata": {},
     "outputs": []
    },
    {
     "cell_type": "code",
     "collapsed": false,
     "input": [
      "scaled_samples = s.transform(samples)"
     ],
     "language": "python",
     "metadata": {},
     "outputs": []
    },
    {
     "cell_type": "code",
     "collapsed": false,
     "input": [
      "xy = list(zip(*scaled_samples))\n",
      "scatter(*xy)"
     ],
     "language": "python",
     "metadata": {},
     "outputs": []
    },
    {
     "cell_type": "heading",
     "level": 2,
     "metadata": {},
     "source": [
      "Classification (using Support Vector Machines (SVMs))"
     ]
    },
    {
     "cell_type": "code",
     "collapsed": false,
     "input": [
      "from sklearn import svm"
     ],
     "language": "python",
     "metadata": {},
     "outputs": []
    },
    {
     "cell_type": "code",
     "collapsed": false,
     "input": [
      "classifier = svm.SVC()"
     ],
     "language": "python",
     "metadata": {},
     "outputs": []
    },
    {
     "cell_type": "code",
     "collapsed": false,
     "input": [
      "classifier.fit(samples, c1) # note: we use un-standardized data for this simple example"
     ],
     "language": "python",
     "metadata": {},
     "outputs": []
    },
    {
     "cell_type": "code",
     "collapsed": false,
     "input": [
      "classifier.predict([[xu,yu]])"
     ],
     "language": "python",
     "metadata": {},
     "outputs": []
    },
    {
     "cell_type": "code",
     "collapsed": false,
     "input": [
      "classifier.fit(samples, c2)"
     ],
     "language": "python",
     "metadata": {},
     "outputs": []
    },
    {
     "cell_type": "code",
     "collapsed": false,
     "input": [
      "classifier.predict([[xu,yu]])"
     ],
     "language": "python",
     "metadata": {},
     "outputs": []
    },
    {
     "cell_type": "markdown",
     "metadata": {},
     "source": [
      "Outlook: scikit-learn offers [Pipelines](http://scikit-learn.org/stable/modules/generated/sklearn.pipeline.Pipeline.html#sklearn.pipeline.Pipeline) "
     ]
    }
   ],
   "metadata": {}
  }
 ]
}