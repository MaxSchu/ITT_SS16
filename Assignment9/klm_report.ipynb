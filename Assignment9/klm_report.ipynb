{
 "metadata": {
  "name": "",
  "signature": "sha256:866993466fd66f847b286d972e38f728ae5973210128b24d8dd13edb2bf42f2d"
 },
 "nbformat": 3,
 "nbformat_minor": 0,
 "worksheets": [
  {
   "cells": [
    {
     "cell_type": "code",
     "collapsed": false,
     "input": [
      "import numpy as np\n",
      "import matplotlib.pyplot as plt\n",
      "%matplotlib inline"
     ],
     "language": "python",
     "metadata": {},
     "outputs": [],
     "prompt_number": 4
    },
    {
     "cell_type": "markdown",
     "metadata": {},
     "source": [
      "KLM Estimates with operator times from the paper"
     ]
    },
    {
     "cell_type": "code",
     "collapsed": false,
     "input": [
      "# Addtask Mouse, Addtask Keyboard, Functiontask Mouse, Functiontask Keyboard\n",
      "klmTimes = (65.0, 15.82, 23.4, 5.44)"
     ],
     "language": "python",
     "metadata": {},
     "outputs": [],
     "prompt_number": 5
    },
    {
     "cell_type": "markdown",
     "metadata": {},
     "source": [
      "KLM Estimates with operator times from own experiment"
     ]
    },
    {
     "cell_type": "code",
     "collapsed": false,
     "input": [
      "# Add-Task Mouse, Add-Task Keyboard, Function-Task Mouse, Function-Task Keyboard\n",
      "expTimes = (36.0, 8.66, 13.0, 3.06)"
     ],
     "language": "python",
     "metadata": {},
     "outputs": [],
     "prompt_number": 6
    },
    {
     "cell_type": "code",
     "collapsed": false,
     "input": [
      "def drawCompareBarDiagramm(set1, set2, name1, name2):\n",
      "    #setup x coordinates for labels\n",
      "    N = 4\n",
      "    deltaX = np.arange(N)\n",
      "    width = 0.4\n",
      "\n",
      "    #draw bars\n",
      "    fig, ax = plt.subplots()\n",
      "    rects1 = ax.bar(deltaX, set1, width, color='r')\n",
      "    rects2 = ax.bar(deltaX + width, set2, width, color='y')\n",
      "\n",
      "    #draw labels\n",
      "    ax.set_ylabel('Task Times in sec')\n",
      "    ax.set_xticks(deltaX + width)\n",
      "    ax.set_xticklabels(('add_mouse', 'add_key', 'func_mouse', 'func_key'))\n",
      "    ax.legend((rects1[0], rects2[0]), (name1, name2))\n",
      "    plt.show()"
     ],
     "language": "python",
     "metadata": {},
     "outputs": [],
     "prompt_number": 7
    },
    {
     "cell_type": "markdown",
     "metadata": {},
     "source": [
      "The following plot shows the estimation differences between the original KLM and our KLM operator set for the calculator"
     ]
    },
    {
     "cell_type": "code",
     "collapsed": false,
     "input": [
      "drawCompareBarDiagramm(klmTimes, expTimes, \"Std KLM\", \"Exp KLM\")"
     ],
     "language": "python",
     "metadata": {},
     "outputs": [
      {
       "metadata": {},
       "output_type": "display_data",
       "png": "[encoded data removed]",
       "text": [
        "<matplotlib.figure.Figure at 0x7fafd5468ef0>"
       ]
      }
     ],
     "prompt_number": 8
    }
   ],
   "metadata": {}
  }
 ]
}