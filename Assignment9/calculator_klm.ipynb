{
 "metadata": {
  "name": "",
  "signature": "sha256:70d8e11349a929b449d6c600e0d51b44fdad7d0a4a68ce3ac00f06061cf409a8"
 },
 "nbformat": 3,
 "nbformat_minor": 0,
 "worksheets": [
  {
   "cells": [
    {
     "cell_type": "markdown",
     "metadata": {},
     "source": [
      "In this Notebook we calculate KLM operators from our own logs from the simple python calculator."
     ]
    },
    {
     "cell_type": "heading",
     "level": 6,
     "metadata": {},
     "source": [
      "The tasks used to produce the needed logfiles."
     ]
    },
    {
     "cell_type": "markdown",
     "metadata": {},
     "source": [
      "Task 1: Press the \"1\" button 20 times with the mouse <br />\n",
      "Task 2: Press the \"1\" button 20 times with the keyboard <br />\n",
      "Task 3: Calc \"147 + 147 + 147 + 147 + 147\" with the mouse <br />\n",
      "Task 4: Calc \"147 + 147 + 147 + 147 + 147\" with the keyboard <br />\n",
      "Task 5: Input \"1 +\" with the mouse then input \"2 +\" with the keyboard. Repeat 5times."
     ]
    },
    {
     "cell_type": "code",
     "collapsed": false,
     "input": [
      "from pylab import *\n",
      "import matplotlib.patches as m_patches\n",
      "import scipy.stats as stats\n",
      "%matplotlib inline"
     ],
     "language": "python",
     "metadata": {},
     "outputs": [],
     "prompt_number": 1
    },
    {
     "cell_type": "code",
     "collapsed": false,
     "input": [
      "data1 = genfromtxt(\"logs.csv\", dtype=None, delimiter=',', names=True)"
     ],
     "language": "python",
     "metadata": {},
     "outputs": [],
     "prompt_number": 16
    },
    {
     "cell_type": "code",
     "collapsed": false,
     "input": [
      "b_operator = array([])\n",
      "k_operator = array([])\n",
      "h_operator = array([])\n",
      "p_operator = array([])\n",
      "\n",
      "for d in data1:\n",
      "    if d['operator'] == b'B':\n",
      "            b_operator = append(b_operator, d['time_passed'])\n",
      "    elif d['operator'] == b'K':\n",
      "            k_operator = append(k_operator, d['time_passed'])\n",
      "    elif d['operator'] == b'H':\n",
      "            h_operator = append(h_operator, d['time_passed'])\n",
      "    elif d['operator'] == b'P':\n",
      "            p_operator = append(p_operator, d['time_passed'])"
     ],
     "language": "python",
     "metadata": {},
     "outputs": [],
     "prompt_number": 7
    },
    {
     "cell_type": "markdown",
     "metadata": {},
     "source": [
      "Mean time for mouse button clicked/released (has to be divided by two because only complete clicks are logged)"
     ]
    },
    {
     "cell_type": "code",
     "collapsed": false,
     "input": [
      "mean(b_operator) / 2"
     ],
     "language": "python",
     "metadata": {},
     "outputs": [
      {
       "metadata": {},
       "output_type": "pyout",
       "prompt_number": 10,
       "text": [
        "0.11454169362991452"
       ]
      }
     ],
     "prompt_number": 10
    },
    {
     "cell_type": "markdown",
     "metadata": {},
     "source": [
      "Mean time for keypresses (lower value maybe caused by laptop keyboard)."
     ]
    },
    {
     "cell_type": "code",
     "collapsed": false,
     "input": [
      "mean(k_operator)"
     ],
     "language": "python",
     "metadata": {},
     "outputs": [
      {
       "metadata": {},
       "output_type": "pyout",
       "prompt_number": 12,
       "text": [
        "0.13680024518269387"
       ]
      }
     ],
     "prompt_number": 12
    },
    {
     "cell_type": "markdown",
     "metadata": {},
     "source": [
      "Mean time for hand switching between mouse and keyboard."
     ]
    },
    {
     "cell_type": "code",
     "collapsed": false,
     "input": [
      "mean(h_operator)"
     ],
     "language": "python",
     "metadata": {},
     "outputs": [
      {
       "metadata": {},
       "output_type": "pyout",
       "prompt_number": 14,
       "text": [
        "0.53730272842502358"
       ]
      }
     ],
     "prompt_number": 14
    },
    {
     "cell_type": "markdown",
     "metadata": {},
     "source": [
      "Mean time for pointing (lower value maybe caused by small application window size)"
     ]
    },
    {
     "cell_type": "code",
     "collapsed": false,
     "input": [
      "mean(p_operator)"
     ],
     "language": "python",
     "metadata": {},
     "outputs": [
      {
       "metadata": {},
       "output_type": "pyout",
       "prompt_number": 15,
       "text": [
        "0.50816182783325925"
       ]
      }
     ],
     "prompt_number": 15
    },
    {
     "cell_type": "code",
     "collapsed": false,
     "input": [],
     "language": "python",
     "metadata": {},
     "outputs": []
    }
   ],
   "metadata": {}
  }
 ]
}