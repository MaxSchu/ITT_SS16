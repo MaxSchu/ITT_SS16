{
 "metadata": {
  "name": "",
  "signature": "sha256:946512844cf0b17dc12f2388c7c2c5dc68e100904f4d141cf4cbfdb263386927"
 },
 "nbformat": 3,
 "nbformat_minor": 0,
 "worksheets": [
  {
   "cells": [
    {
     "cell_type": "markdown",
     "metadata": {},
     "source": [
      "In this Notebook we calculate KLM operators from our own logs from the simple python calculator."
     ]
    },
    {
     "cell_type": "heading",
     "level": 6,
     "metadata": {},
     "source": [
      "The tasks used to produce the needed logfiles."
     ]
    },
    {
     "cell_type": "markdown",
     "metadata": {},
     "source": [
      "Task 1: Press the \"1\" button 20 times with the mouse <br />\n",
      "Task 2: Press the \"1\" button 20 times with the keyboard <br />\n",
      "Task 3: Calc \"147 + 147 + 147 + 147 + 147\" with the mouse <br />\n",
      "Task 4: Calc \"147 + 147 + 147 + 147 + 147\" with the keyboard <br />\n",
      "Task 5: Input \"1 +\" with the mouse then input \"2 +\" with the keyboard. Repeat 10 times."
     ]
    },
    {
     "cell_type": "code",
     "collapsed": false,
     "input": [],
     "language": "python",
     "metadata": {},
     "outputs": []
    }
   ],
   "metadata": {}
  }
 ]
}