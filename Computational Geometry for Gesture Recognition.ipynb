{
 "metadata": {
  "name": "",
  "signature": "sha256:211cef3042d8f98e1eee78337846a9dbe03d1fff6c33ba0370b34453a470a093"
 },
 "nbformat": 3,
 "nbformat_minor": 0,
 "worksheets": [
  {
   "cells": [
    {
     "cell_type": "heading",
     "level": 1,
     "metadata": {},
     "source": [
      "Computational Geometry (for Gesture Recognition)"
     ]
    },
    {
     "cell_type": "code",
     "collapsed": false,
     "input": [
      "%pylab inline\n",
      "%config InlineBackend.figure_format='svg'\n",
      "# integrate qt5 event loop\n",
      "%gui qt5 "
     ],
     "language": "python",
     "metadata": {},
     "outputs": [
      {
       "output_type": "stream",
       "stream": "stdout",
       "text": [
        "Populating the interactive namespace from numpy and matplotlib\n"
       ]
      }
     ],
     "prompt_number": 1
    },
    {
     "cell_type": "code",
     "collapsed": false,
     "input": [
      "from PyQt5 import Qt, QtGui, QtCore, QtWidgets\n",
      "# from math import sin, cos, pi # (already imported by pylab)"
     ],
     "language": "python",
     "metadata": {},
     "outputs": [],
     "prompt_number": 2
    },
    {
     "cell_type": "code",
     "collapsed": false,
     "input": [
      "#app = QtWidgets.QApplication(sys.argv)"
     ],
     "language": "python",
     "metadata": {},
     "outputs": [],
     "prompt_number": 3
    },
    {
     "cell_type": "code",
     "collapsed": false,
     "input": [
      "class QDrawWidget(QtWidgets.QWidget):\n",
      "    \n",
      "    def __init__(self, width=800, height=800):\n",
      "        super().__init__()\n",
      "        self.resize(width, height)\n",
      "        self.setFocusPolicy(QtCore.Qt.StrongFocus)\n",
      "        self.drawing = False\n",
      "        self.points = []\n",
      "        #QtGui.QCursor.setPos(self.mapToGlobal(QtCore.QPoint(*self.start_pos)))\n",
      "        self.setMouseTracking(True) # only get events when button is pressed\n",
      "        self.initUI()\n",
      "\n",
      "    def initUI(self):      \n",
      "        self.text = \"Please click on the target\"\n",
      "        self.setWindowTitle('Drawable')\n",
      "        self.show()\n",
      "\n",
      "    def mousePressEvent(self, ev):\n",
      "        if ev.button() == QtCore.Qt.LeftButton:\n",
      "            self.drawing = True\n",
      "            self.points = []\n",
      "            self.update()\n",
      "        elif ev.button() == QtCore.Qt.RightButton:\n",
      "            self.points = custom_filter(self.points)\n",
      "            self.update()\n",
      "            \n",
      "    def mouseReleaseEvent(self, ev):\n",
      "        if ev.button() == QtCore.Qt.LeftButton:\n",
      "            self.drawing = False\n",
      "            self.update() \n",
      "\n",
      "    def mouseMoveEvent(self, ev):\n",
      "        if self.drawing:\n",
      "            self.points.append((ev.x(), ev.y()))\n",
      "            self.update() \n",
      "    \n",
      "    def poly(self, pts):\n",
      "        return QtGui.QPolygonF(map(lambda p: QtCore.QPointF(*p), pts))\n",
      "\n",
      "    def paintEvent(self, ev):\n",
      "        qp = QtGui.QPainter()\n",
      "        qp.begin(self)\n",
      "        qp.setBrush(QtGui.QColor(0, 0, 0))\n",
      "        qp.drawRect(ev.rect())\n",
      "        qp.setBrush(QtGui.QColor(20, 255, 190))\n",
      "        qp.setPen(QtGui.QColor(0, 155, 0))\n",
      "        qp.drawPolyline(self.poly(self.points))\n",
      "        for point in self.points:\n",
      "            qp.drawEllipse(point[0]-1, point[1] - 1, 2, 2)\n",
      "        qp.end()"
     ],
     "language": "python",
     "metadata": {},
     "outputs": [],
     "prompt_number": 5
    },
    {
     "cell_type": "code",
     "collapsed": false,
     "input": [
      "dw = QDrawWidget()"
     ],
     "language": "python",
     "metadata": {},
     "outputs": [],
     "prompt_number": 6
    },
    {
     "cell_type": "code",
     "collapsed": false,
     "input": [
      "def distance(p1,p2):\n",
      "    dx = p1[0] - p2[0]\n",
      "    dy = p1[1] - p2[1]\n",
      "    return sqrt(dx*dx+dy*dy)\n",
      "\n",
      "def total_length(point_list):\n",
      "    p1 = point_list[0]\n",
      "    length = 0.0\n",
      "    for i in range(1,len(point_list)):\n",
      "        length += distance(p1,point_list[i])\n",
      "        p1 = point_list[i]\n",
      "    return length"
     ],
     "language": "python",
     "metadata": {},
     "outputs": [],
     "prompt_number": 7
    },
    {
     "cell_type": "code",
     "collapsed": false,
     "input": [
      "def resample(point_list,step_count=64):\n",
      "    newpoints = []\n",
      "    length = total_length(point_list)\n",
      "    stepsize = length/step_count\n",
      "    curpos = 0\n",
      "    newpoints.append(point_list[0])\n",
      "    i = 1\n",
      "    while i < len(point_list):\n",
      "        p1 = point_list[i-1]\n",
      "        d = distance(p1,point_list[i])\n",
      "        if curpos+d >= stepsize:\n",
      "            nx = p1[0] + ((stepsize-curpos)/d)*(point_list[i][0]-p1[0])\n",
      "            ny = p1[1] + ((stepsize-curpos)/d)*(point_list[i][1]-p1[1])\n",
      "            newpoints.append([nx,ny])\n",
      "            point_list.insert(i,[nx,ny])\n",
      "            curpos = 0\n",
      "        else:\n",
      "            curpos += d\n",
      "        i += 1\n",
      "    return newpoints"
     ],
     "language": "python",
     "metadata": {},
     "outputs": [],
     "prompt_number": 8
    },
    {
     "cell_type": "code",
     "collapsed": false,
     "input": [
      "def transform(points):\n",
      "    center = (400,400)\n",
      "    new_points = []\n",
      "    r = 5 * (pi / 180)# degrees multmat\n",
      "    rot_matrix = matrix([[cos(r), -sin(r), 0], # clockwise\n",
      "                         [sin(r),  cos(r), 0], \n",
      "                         [     0,       0, 1]])\n",
      "    t1 = matrix([[1,0,-center[0]],[0,1,-center[1]],[0,0,1]])\n",
      "    t2 = matrix([[1,0,center[0]],[0,1,center[1]],[0,0,1]])  \n",
      "\n",
      "    for point in points:\n",
      "        hom_point = matrix([[point[0]], [point[1]], [1]])\n",
      "        transform = t2  @ rot_matrix @ t1\n",
      "        rotated_point = transform @ hom_point\n",
      "        new_points.append((int(rotated_point[0]),int(rotated_point[1])))\n",
      "    return new_points"
     ],
     "language": "python",
     "metadata": {},
     "outputs": [],
     "prompt_number": 9
    },
    {
     "cell_type": "code",
     "collapsed": false,
     "input": [
      "def custom_filter(points):\n",
      "    return(resample(points))"
     ],
     "language": "python",
     "metadata": {},
     "outputs": [],
     "prompt_number": 12
    },
    {
     "cell_type": "code",
     "collapsed": false,
     "input": [],
     "language": "python",
     "metadata": {},
     "outputs": []
    }
   ],
   "metadata": {}
  }
 ]
}